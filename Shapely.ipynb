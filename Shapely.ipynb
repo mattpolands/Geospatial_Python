{
  "nbformat": 4,
  "nbformat_minor": 0,
  "metadata": {
    "colab": {
      "provenance": [],
      "authorship_tag": "ABX9TyMdAHFx4/AUDD1qTtnBu2K9",
      "include_colab_link": true
    },
    "kernelspec": {
      "name": "python3",
      "display_name": "Python 3"
    },
    "language_info": {
      "name": "python"
    }
  },
  "cells": [
    {
      "cell_type": "markdown",
      "metadata": {
        "id": "view-in-github",
        "colab_type": "text"
      },
      "source": [
        "<a href=\"https://colab.research.google.com/github/mattpolands/Geospatial_Python/blob/main/Shapely.ipynb\" target=\"_parent\"><img src=\"https://colab.research.google.com/assets/colab-badge.svg\" alt=\"Open In Colab\"/></a>"
      ]
    },
    {
      "cell_type": "code",
      "execution_count": null,
      "metadata": {
        "colab": {
          "base_uri": "https://localhost:8080/"
        },
        "id": "iYuewI6PwgvX",
        "outputId": "7b9a1713-b595-4252-bf80-0762a7bd329a"
      },
      "outputs": [
        {
          "output_type": "stream",
          "name": "stdout",
          "text": [
            "POINT (0 1.1)\n",
            "Point\n"
          ]
        }
      ],
      "source": [
        "#Create a function called create_point_geometry() that accepts two parameters, x_coord and y_coord.\n",
        "from shapely.geometry import Point\n",
        "\n",
        "def create_point_geometry(x_coord, y_coord):\n",
        "    return Point(x_coord, y_coord)\n",
        "\n",
        "point1 = create_point_geometry(0.0, 1.1)\n",
        "print(point1)\n",
        "print(point1.geom_type)\n"
      ]
    },
    {
      "cell_type": "code",
      "source": [
        "#Create a function called create_line_geometry() that takes a list of shapely.geometry.Points as an argument,\n",
        "#and returns a shapely.geometry.LineString object of those input points.\n",
        "from shapely.geometry import LineString, Point\n",
        "\n",
        "def create_line_geometry(points_list):\n",
        "    assert isinstance(points_list, list), \"Must be a list\"\n",
        "    assert len(points_list) >= 2, \"Need two or more points to make a LineString\"\n",
        "    assert all(isinstance(point, Point) for point in points_list), \"All list values must be of type shapely.geometry.Point\"\n",
        "\n",
        "    return LineString(points_list)\n"
      ],
      "metadata": {
        "id": "cU_wsYpawrO9"
      },
      "execution_count": null,
      "outputs": []
    },
    {
      "cell_type": "code",
      "source": [
        "\n",
        "#Demonstrate how to use your function: Create a line object with two points,\n",
        "#Point(45.2, 22.34) and Point(100.22, -3.20), and store the result in a variable called line1.\n",
        "line1 = create_line_geometry([Point(45.2, 22.34), Point(100.22, -3.20)])\n",
        "print(line1)\n",
        "print(line1.geom_type)"
      ],
      "metadata": {
        "colab": {
          "base_uri": "https://localhost:8080/"
        },
        "id": "tuOhU2t9w0PU",
        "outputId": "dede03e5-c314-4a6b-8def-8f5f7e6818e8"
      },
      "execution_count": null,
      "outputs": [
        {
          "output_type": "stream",
          "name": "stdout",
          "text": [
            "LINESTRING (45.2 22.34, 100.22 -3.2)\n",
            "LineString\n"
          ]
        }
      ]
    },
    {
      "cell_type": "code",
      "source": [
        "# NON-EDITABLE CODE CELL FOR TESTING YOUR SOLUTION\n",
        "try:\n",
        "    # Pass something else than a list\n",
        "    create_line_geometry(\"Give me a line!\")\n",
        "except AssertionError as exception:\n",
        "    print(f\"The function (correctly) detected an error. The error message was ‘{exception.args[0]}’\")\n",
        "except Exception as exception:\n",
        "    raise exception"
      ],
      "metadata": {
        "colab": {
          "base_uri": "https://localhost:8080/"
        },
        "id": "Wi3quk5Y0Zh3",
        "outputId": "ef153c29-bb5c-4cd2-948a-480301ea33a9"
      },
      "execution_count": null,
      "outputs": [
        {
          "output_type": "stream",
          "name": "stdout",
          "text": [
            "The function (correctly) detected an error. The error message was ‘Must be a list’\n"
          ]
        }
      ]
    },
    {
      "cell_type": "code",
      "source": [
        "#Create a function create_polygon_geometry() that accepts one parameter coordinates.\n",
        "#Coordinates should be a list of coordinate tuple.\n",
        "from shapely.geometry import Polygon, Point\n",
        "\n",
        "def create_polygon_geometry(coordinates):\n",
        "    assert isinstance(coordinates, list), \"Input should be a list\"\n",
        "    assert len(coordinates) >= 3, \"At minimum three points are required for a polygon\"\n",
        "    assert all(isinstance(coord, tuple) and len(coord) == 2 for coord in coordinates), \"All list values must be coordinate tuples\"\n",
        "\n",
        "    if all(isinstance(point, Point) for point in coordinates):\n",
        "        coordinates = [(point.x, point.y) for point in coordinates]\n",
        "\n",
        "    return Polygon(coordinates)\n",
        "\n"
      ],
      "metadata": {
        "id": "hHzwA8QU1GZ8"
      },
      "execution_count": null,
      "outputs": []
    },
    {
      "cell_type": "code",
      "source": [
        "#Demonstrate how to use the function. For example, create a Polygon polygon1 with three points:\n",
        "#(45.2, 22.34), (100.22, -3.20), (70.0, 10.20).\n",
        "polygon1 = create_polygon_geometry([(45.2, 22.34), (100.22, -3.20), (70.0, 10.20)])\n",
        "\n",
        "print(polygon1)\n",
        "print(polygon1.geom_type)"
      ],
      "metadata": {
        "colab": {
          "base_uri": "https://localhost:8080/"
        },
        "id": "U8_wOnKC3rD8",
        "outputId": "be096594-1e75-4f3f-d111-832a888f58b1"
      },
      "execution_count": null,
      "outputs": [
        {
          "output_type": "stream",
          "name": "stdout",
          "text": [
            "POLYGON ((45.2 22.34, 100.22 -3.2, 70 10.2, 45.2 22.34))\n",
            "Polygon\n"
          ]
        }
      ]
    },
    {
      "cell_type": "code",
      "source": [
        "# NON-EDITABLE CODE CELL FOR TESTING YOUR SOLUTION\n",
        "try:\n",
        "    # Pass something else than a list\n",
        "    create_polygon_geometry(\"Give me a polygon\")\n",
        "except AssertionError as exception:\n",
        "    print(f\"The function (correctly) detected an error. The error message was ‘{exception.args[0]}’\")\n",
        "except Exception as exception:\n",
        "    raise exception"
      ],
      "metadata": {
        "colab": {
          "base_uri": "https://localhost:8080/"
        },
        "id": "v1oiIT_64Lkc",
        "outputId": "e685a32c-f6c4-4137-aed5-81744a613ebc"
      },
      "execution_count": null,
      "outputs": [
        {
          "output_type": "stream",
          "name": "stdout",
          "text": [
            "The function (correctly) detected an error. The error message was ‘Input should be a list’\n"
          ]
        }
      ]
    },
    {
      "cell_type": "code",
      "source": [
        "#Create a function called get_centroid() that accepts one parameter, geom.\n",
        "#The function should take any kind of Shapely’s geometry objects (any instance of shapely.geometry.base.BaseGeometry) as an input,\n",
        "#and return the centroid of that geometry.\n",
        "from shapely.geometry.base import BaseGeometry\n",
        "\n",
        "def get_centroid(geom):\n",
        "    assert isinstance(geom, BaseGeometry), \"Input must be a shapely geometry\"\n",
        "    return geom.centroid\n"
      ],
      "metadata": {
        "id": "zEWkmSih4kBk"
      },
      "execution_count": null,
      "outputs": []
    },
    {
      "cell_type": "code",
      "source": [
        "centroid = get_centroid(polygon1)\n",
        "print(centroid)"
      ],
      "metadata": {
        "colab": {
          "base_uri": "https://localhost:8080/"
        },
        "id": "jpjzyMH18TL6",
        "outputId": "52cf7f79-2853-4355-98f8-7186077ea24e"
      },
      "execution_count": null,
      "outputs": [
        {
          "output_type": "stream",
          "name": "stdout",
          "text": [
            "POINT (71.80666666666667 9.780000000000001)\n"
          ]
        }
      ]
    },
    {
      "cell_type": "code",
      "source": [
        "# NON-EDITABLE CODE CELL FOR TESTING YOUR SOLUTION\n",
        "try:\n",
        "    # Pass something else than a Shapely geometry\n",
        "    get_centroid(\"Give me a centroid!\")\n",
        "except AssertionError as exception:\n",
        "    print(f\"The function (correctly) detected an error. The error message was ‘{exception.args[0]}’\")\n",
        "except Exception as exception:\n",
        "    raise exception"
      ],
      "metadata": {
        "colab": {
          "base_uri": "https://localhost:8080/"
        },
        "id": "OeGATME38cbj",
        "outputId": "29637093-759c-4234-cd77-bf82f91df9aa"
      },
      "execution_count": null,
      "outputs": [
        {
          "output_type": "stream",
          "name": "stdout",
          "text": [
            "The function (correctly) detected an error. The error message was ‘Input must be a shapely geometry’\n"
          ]
        }
      ]
    },
    {
      "cell_type": "code",
      "source": [
        "#create get_area with one parameter, polygon.\n",
        "def get_area(polygon):\n",
        "    assert isinstance(polygon, Polygon), \"Input must be a Shapely Polygon\"\n",
        "    return polygon.area"
      ],
      "metadata": {
        "id": "X1kcAI_X8yM3"
      },
      "execution_count": null,
      "outputs": []
    },
    {
      "cell_type": "code",
      "source": [
        "area = get_area(polygon1)\n",
        "print(round(area, 2))"
      ],
      "metadata": {
        "colab": {
          "base_uri": "https://localhost:8080/"
        },
        "id": "flELGpWl_SN5",
        "outputId": "35e7e77b-ca74-45bb-cf7f-0177b37a47fb"
      },
      "execution_count": null,
      "outputs": [
        {
          "output_type": "stream",
          "name": "stdout",
          "text": [
            "17.28\n"
          ]
        }
      ]
    },
    {
      "cell_type": "code",
      "source": [
        "try:\n",
        "    get_area('Show me the area!')\n",
        "except AssertionError as exception:\n",
        "    print(f\"The function (correclty) detected an error. The error message was '{exception.args[0]}'\")\n",
        "except Exception as exception:\n",
        "    raise exception"
      ],
      "metadata": {
        "colab": {
          "base_uri": "https://localhost:8080/"
        },
        "id": "YJh8S5oR_YTo",
        "outputId": "d2b8dc22-33a2-496c-a375-56c050be86a4"
      },
      "execution_count": null,
      "outputs": [
        {
          "output_type": "stream",
          "name": "stdout",
          "text": [
            "The function (correclty) detected an error. The error message was 'Input must be a Shapely Polygon'\n"
          ]
        }
      ]
    },
    {
      "cell_type": "code",
      "source": [
        "# List all functions we created\n",
        "functions = [\n",
        "    create_point_geometry,\n",
        "    create_line_geometry,\n",
        "    create_polygon_geometry,\n",
        "    get_centroid,\n",
        "    get_area\n",
        "]\n",
        "\n",
        "print(\"My functions:\\n\")\n",
        "\n",
        "for function in functions:\n",
        "    # print function name and docstring:\n",
        "    print(\"-\", function.__name__ +\":\", function.__doc__)"
      ],
      "metadata": {
        "colab": {
          "base_uri": "https://localhost:8080/"
        },
        "id": "BLqb7E8i_38-",
        "outputId": "1f4ba612-f900-4633-fc33-3204ec6a127b"
      },
      "execution_count": null,
      "outputs": [
        {
          "output_type": "stream",
          "name": "stdout",
          "text": [
            "My functions:\n",
            "\n",
            "- create_point_geometry: None\n",
            "- create_line_geometry: None\n",
            "- create_polygon_geometry: None\n",
            "- get_centroid: None\n",
            "- get_area: None\n"
          ]
        }
      ]
    },
    {
      "cell_type": "code",
      "source": [],
      "metadata": {
        "id": "2s0HGWmIBeSE"
      },
      "execution_count": null,
      "outputs": []
    }
  ]
}